{
 "cells": [
  {
   "cell_type": "code",
   "execution_count": 1,
   "id": "8dc105ce-ae50-48c8-930b-ede9cd0f1978",
   "metadata": {},
   "outputs": [
    {
     "name": "stdout",
     "output_type": "stream",
     "text": [
      "1/22/20\n",
      "33.93911\n",
      "Afghanistan 1/22/20 0\n"
     ]
    },
    {
     "data": {
      "text/html": [
       "<div>\n",
       "<style scoped>\n",
       "    .dataframe tbody tr th:only-of-type {\n",
       "        vertical-align: middle;\n",
       "    }\n",
       "\n",
       "    .dataframe tbody tr th {\n",
       "        vertical-align: top;\n",
       "    }\n",
       "\n",
       "    .dataframe thead th {\n",
       "        text-align: right;\n",
       "    }\n",
       "</style>\n",
       "<table border=\"1\" class=\"dataframe\">\n",
       "  <thead>\n",
       "    <tr style=\"text-align: right;\">\n",
       "      <th></th>\n",
       "      <th>0</th>\n",
       "    </tr>\n",
       "  </thead>\n",
       "  <tbody>\n",
       "    <tr>\n",
       "      <th>0</th>\n",
       "      <td>Afghanistan</td>\n",
       "    </tr>\n",
       "    <tr>\n",
       "      <th>1</th>\n",
       "      <td>1/22/20</td>\n",
       "    </tr>\n",
       "    <tr>\n",
       "      <th>2</th>\n",
       "      <td>0</td>\n",
       "    </tr>\n",
       "  </tbody>\n",
       "</table>\n",
       "</div>"
      ],
      "text/plain": [
       "             0\n",
       "0  Afghanistan\n",
       "1      1/22/20\n",
       "2            0"
      ]
     },
     "execution_count": 1,
     "metadata": {},
     "output_type": "execute_result"
    }
   ],
   "source": [
    "import pandas as pd \n",
    "\n",
    "def load_to_memory(filename):\n",
    "    data = pd.read_csv(f'{filename}', header=0) \n",
    "#     print(data.iloc[0])\n",
    "    return data\n",
    "\n",
    "time_series = '/Users/kaleighjaeger/Scripps/epidemiology/COVID-19/csse_covid_19_data/csse_covid_19_time_series/time_series_covid19_confirmed_global.csv'\n",
    "dataframe = load_to_memory(time_series)\n",
    "\n",
    "def create_dataframe(df):\n",
    "    print(df.columns[4])\n",
    "    line = df.iloc[0]\n",
    "    print(line[2])\n",
    "    date = df.columns[4]\n",
    "    \n",
    "    print(df.at[0, 'Country/Region'], df.columns[4], df.at[0, date])\n",
    "    new_dataframe = pd.DataFrame([df.at[0, 'Country/Region'], df.columns[4], df.at[0, date]])\n",
    "    return new_dataframe\n",
    "\n",
    "create_dataframe(dataframe)"
   ]
  },
  {
   "cell_type": "code",
   "execution_count": null,
   "id": "d51fe61e-c278-4a8b-9894-a8c6157ca394",
   "metadata": {},
   "outputs": [],
   "source": []
  },
  {
   "cell_type": "code",
   "execution_count": null,
   "id": "ab30fefe-f514-4d01-b1db-1463e7dd0aa0",
   "metadata": {},
   "outputs": [],
   "source": []
  }
 ],
 "metadata": {
  "kernelspec": {
   "display_name": "Python 3",
   "language": "python",
   "name": "python3"
  },
  "language_info": {
   "codemirror_mode": {
    "name": "ipython",
    "version": 3
   },
   "file_extension": ".py",
   "mimetype": "text/x-python",
   "name": "python",
   "nbconvert_exporter": "python",
   "pygments_lexer": "ipython3",
   "version": "3.8.2"
  }
 },
 "nbformat": 4,
 "nbformat_minor": 5
}
